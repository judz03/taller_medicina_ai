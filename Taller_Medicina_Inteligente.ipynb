{
  "cells": [
    {
      "cell_type": "markdown",
      "metadata": {
        "id": "fonZTKXU-FnZ"
      },
      "source": [
        "# Medicina Inteligente: atravesando fronteras con Inteligencia Artificial\n",
        "\n",
        "3 PREGUNTAS PARA LOS ALUMNOS\n",
        "\n",
        "\n",
        "* ¿Qué es la optimización en el contexto del entrenamiento de modelos de machine learning?\n",
        "* Define el concepto de overfitting en el contexto del machine learning. ¿Por qué es problemático y cómo se puede mitigar este fenómeno al entrenar modelos?\n",
        "\n",
        "* ¿Cuáles son las principales diferencias entre el aprendizaje supervisado y el aprendizaje no supervisado en machine learning?\n",
        "\n",
        "\n"
      ]
    },
    {
      "cell_type": "markdown",
      "metadata": {},
      "source": [
        "## ¿Qué es el Machine Learning y el Deep Learning?"
      ]
    },
    {
      "cell_type": "markdown",
      "metadata": {},
      "source": [
        "El **aprendizaje automático** (*machine learning*) es un área de las ciencias computacionales que busca simular el proceso de aprendizaje humano mediante la exploración de datos y una optimización continua para mejorar el rendimiento de tareas específicas."
      ]
    },
    {
      "cell_type": "markdown",
      "metadata": {},
      "source": [
        "El **aprendizaje profundo** (*deep learning*) es una sub-área del aprendizaje automático que utiliza simula la propagación de información en el cerebro por medio de *redes neuronales*. Estas se organizan en capas, que se posicionan una después de otra, de forma que aumentan en *profundidad*."
      ]
    },
    {
      "cell_type": "markdown",
      "metadata": {},
      "source": [
        "## Algunos ejemplos de ML y DL en la vida diaria\n",
        "\n",
        "* Alexa\n",
        "* Google Maps\n",
        "* Netflix\n",
        "* Google Traductor\n",
        "* Teclado del celular\n",
        "* CAPTCHA"
      ]
    },
    {
      "cell_type": "markdown",
      "metadata": {},
      "source": [
        "## Pasos para la implementación de algoritmos de ML y DL\n",
        "\n",
        "1. Entender el problema\n",
        "2. Adquisición y/o búsqueda de datos\n",
        "3. Pre-procesamiento de datos\n",
        "4. Extracción de características\n",
        "5. Elección de modelo o arquitectura\n",
        "6. Entrenamiento del modelo\n",
        "7. Evaluación del modelo\n",
        "8. Despliegue del modelo (en aplicaciones prácticas e industriales)"
      ]
    },
    {
      "cell_type": "markdown",
      "metadata": {},
      "source": [
        "![imagen](/home/msr/Pictures/Screenshots/Screenshot\\ from\\ 2024-03-11\\ 14-29-05.png)"
      ]
    },
    {
      "cell_type": "markdown",
      "metadata": {
        "id": "vsYItVKE-U_A"
      },
      "source": [
        "## Métodos de Machine Learning"
      ]
    },
    {
      "cell_type": "markdown",
      "metadata": {
        "id": "eJoQp6ptBEeH"
      },
      "source": [
        "### K-nearest neighbors\n",
        "\n",
        "---\n",
        "Pensemos en un conjunto de datos como puntos en un  en un plano cartesiano, al entras un nuevo dato se mapea y se busca a los puntos mas cercanos para poderlo *clasificar* dentro de un grupo.  \n",
        "\n",
        ">K = Al numero de vecinos que usa de referencia\n",
        "\n",
        ">Distancia = Una formula para calcular la a distancia entre el dato de entrada y los demás datos. (Euclidiana)\n",
        "\n",
        ">Selección = Elije los mas cercanos para despues ya sea calcular el promedio (problema de regresión) o solo la distancia (clasificación)\n",
        "\n",
        "No hace predicciónes especificas sobre el funcionamiento de los datos, por eso normalmente se usa para, clasificaciones y reconocimiento de patrones y caracteristicas.\n",
        "La elección de K es muy importante ya que un numero alto nos lleva a un **overfitting** y uno muy pequeño a un **underfitting**."
      ]
    },
    {
      "cell_type": "markdown",
      "metadata": {
        "id": "5pOxVznmGNbz"
      },
      "source": [
        "### Regresión lineal y logística\n",
        "---\n",
        "Mientras que la **regresión lineal**, el algoritmo es utilizado para predecir valores continuos encontrando la mejor linea de ajuste para los datos de salida (y = mx + b).\n",
        "\n",
        "*   **Parámetros**: m y b (con valores aleatorios).\n",
        "*   **Cálculo de la función de costo**: Para evaluar que tan bien se ajusta la linea a los datos (error cuadrático medio).\n",
        "\n",
        "\n",
        "\n",
        "La **regresión logística** se usa para clasificaciones binarias (o sea dos conjuntos de datos) buscando la propabilidad de pertenencia a una clase.\n",
        "\n",
        "*   Se utiliza la función sigmoide para el calculo de probabilidad.\n",
        "*   Parámetros: m y b\n",
        "*   **Función de costo**: Evalua la eficacia de la predicción (entropia cruzada).\n",
        "*   Optimización de parametros: Minimiza la función de costo (descenso de gradiente)\n",
        "\n",
        "\n",
        "\n"
      ]
    },
    {
      "cell_type": "markdown",
      "metadata": {
        "id": "Rm0vn4o5Ad1X"
      },
      "source": [
        "### Principal Components Regression\n",
        "---\n",
        "Es un método de regresion lineal, utiliza un modelo estadistico: el **analisis de componentes principales**, que nos permite reducir la dimensionalidad de los datos seleccionando un numero de componentes principales.\n",
        "\n",
        "Combina la capacidad predictiva de la **regresión lineal** con esta selección de datos para modelar la relación entre las variables independientes y la variable dependiente."
      ]
    },
    {
      "cell_type": "markdown",
      "metadata": {
        "id": "-x7hd28iAocI"
      },
      "source": [
        "### Support Vector Machines\n",
        "---\n",
        "Son un tipo de algoritmo de **aprendizaje supervisado**, estos manejan conjuntos de datos de alta dimensionalidad, cararacterizado por ser un clasificador.\n",
        "\n",
        "\n",
        "*   Busca encontrar el **hiperplano que maximice** el margen de discriminacion entre las clases de datos en un espacio de caracteristicas. (como verctor)\n",
        "*   Utiliza la función **hinge loss** para penalizar las clasificaciones incorrectas.\n",
        "*   Usa como **hiperparámetro** \"C\", que es el costo.\n",
        "*   Si \"C es muy grande elegirá un margen estricto, si es pequeño se optimizara el margen incluso si el hiperplano clasifica mal.\n",
        "\n"
      ]
    },
    {
      "cell_type": "markdown",
      "metadata": {
        "id": "8GHYJObUA3-s"
      },
      "source": [
        "### Random Forests\n",
        "---\n",
        "Es otro algoritmo de aprendizaje de aprendizaje supervisado que combina multiples árboles de desición, cada uno entrenados por separado con diferentes datos. Basado en lógica binaria multivariante.\n",
        "\n",
        "\n",
        "*   Utiliza **bagging** que es una técnica de ensamblaje, genera multiples conjuntos de datos de la base de datos original.\n",
        "*   Para cada conjunto, se construye un árbol, con un subconjunto de **características** para cada uno.\n",
        "###La Predicción\n",
        "Cada árbol hace su predicción, dependiendo del algoritmo (si es de clasificación o regresión), la predicción final se dará por votación o promedio.\n",
        "\n",
        "\n",
        "\n",
        "\n"
      ]
    },
    {
      "cell_type": "markdown",
      "metadata": {
        "id": "ssp19rMB-YKI"
      },
      "source": [
        "## Arquitecturas de Deep Learning"
      ]
    },
    {
      "cell_type": "markdown",
      "metadata": {
        "id": "7w9lMbkpBNl5"
      },
      "source": [
        "### MLP (Perceptrón Multicapa)\n",
        "\n",
        "Es la arquitectura más simple de redes neuronales artificiales. Representa de manera sencilla los 3 tipos de capas que conforman a las redes neuronales artifuciales:\n",
        "\n",
        "* **Capa de entrada**: conformada por las neuronas que representan a los valores de entrada ($x_i$)\n",
        "* **Capa(s) oculta(s)**: conformada por las neuronas $h_i^j$ que reciben la suma de los productos de la capa anterior\n",
        "* **Capa de salida**: la forma la(s) neurona(s) que representa(n) la predicción por la red neuronal. Es decir la capa al final de la arquitectura"
      ]
    },
    {
      "cell_type": "markdown",
      "metadata": {},
      "source": [
        "#### Representación gráfica de un MLP\n",
        "\n",
        "<img    src=\"images/MLP.png\"\n",
        "        width=\"300\"\n",
        "        height=\"300\" />"
      ]
    },
    {
      "cell_type": "markdown",
      "metadata": {},
      "source": [
        "#### Ejemplo de aplicación de un perceptrón multicapa"
      ]
    },
    {
      "cell_type": "markdown",
      "metadata": {
        "id": "-WEBsqNOB5Vl"
      },
      "source": [
        "### CNN"
      ]
    },
    {
      "cell_type": "markdown",
      "metadata": {
        "id": "0Clf3AA7B6n5"
      },
      "source": [
        "### RNN"
      ]
    },
    {
      "cell_type": "markdown",
      "metadata": {
        "id": "rfQsDX95B8cD"
      },
      "source": [
        "### Transformadores"
      ]
    },
    {
      "cell_type": "markdown",
      "metadata": {
        "id": "xYPzbpBW-eBy"
      },
      "source": [
        "## Métricas de evaluación de modelos"
      ]
    },
    {
      "cell_type": "markdown",
      "metadata": {
        "id": "1l7Jv8EzB-x1"
      },
      "source": [
        "### Exactitud\n",
        "\n",
        "Es la exactitud de la predicción del modelo, es una medida que nos informa sobre la correcta clasificación de todas las clasificaciónes. Su valor es en porcentajes de 0% a 100%."
      ]
    },
    {
      "cell_type": "markdown",
      "metadata": {
        "id": "7moDQJ54CbNa"
      },
      "source": [
        "### Sensibilidad\n",
        "\n",
        "La especificidad es la verdadera tasa negativa de una prueba. En otras palabras, representa la proporción de personas sin la enfermedad, que tendrá un resultado negativo. Al igual que para la sensibilidad, los valores oscilan entre 0 y 100%."
      ]
    },
    {
      "cell_type": "markdown",
      "metadata": {
        "id": "AERhffkLCc13"
      },
      "source": [
        "### Especificidad\n",
        "\n",
        "Es la tasa de positividad verdadera de una prueba. Es decir, cuántos sujetos con una enfermedad son realmente identificados como portadores de la enfermedad por la prueba. Los valores oscilan entre 0 y 100%."
      ]
    },
    {
      "cell_type": "markdown",
      "metadata": {
        "id": "d5GGatzMCfl3"
      },
      "source": [
        "### Precisión\n",
        "\n",
        "Es una medida que nos dice de todos los casos previstos, cuántos son casos reales. Rango de valores posibles de 0 a 1."
      ]
    },
    {
      "cell_type": "markdown",
      "metadata": {
        "id": "aAtLgzJVCiUh"
      },
      "source": [
        "### *Recall*\n",
        "Es una medida informativa que indica el número de *casos* identificados por el modelo con respecto del número de *casos* real. Por ejemplo, una pregunta que el *recall* responde es: \"Del número total de pacientes con cáncer, ¿cuántos fueron correctamente identificados por el modelo?\"."
      ]
    },
    {
      "cell_type": "markdown",
      "metadata": {
        "id": "agYyWZAzC2Ra"
      },
      "source": [
        "### Curva ROC (*Area under the receiver operator curve*)\n",
        "\n",
        "Es una medida que detalla qué tan sensible y específico es el modelo. Normalmente se detalla en una gráfica en donde el eje *x* representa las predicciones erróneas, y el *y* las positivas. Una métrica mala en términos de sensitividad y especificidad se encontraría por debajo de una valor de 0.5. Análogamente, sería como tirar un volado."
      ]
    },
    {
      "cell_type": "markdown",
      "metadata": {
        "id": "dJPQdoCaFDeK"
      },
      "source": [
        "## Aprendizaje supervisado, no supervisado y reforzado\n",
        "\n",
        "Son las dos principales clases en las que se clasifica el aprendizaje automático.\n",
        "\n",
        "El **aprendizaje supervisado** consiste en un aprendizaje en donde el modelo aprende a mapear las entradas hacia una salida predefinida (etiquetas) con base en el ajuste continuo de sus parámetros. El **aprendizaje no supervisado** no cuenta con ningún tipo de identificador o etiqueta, sino que se encargan de encontrar estructuras o patrones inherentes a los datos de entrada."
      ]
    },
    {
      "cell_type": "markdown",
      "metadata": {
        "id": "mmpJv-yXNez1"
      },
      "source": [
        "### t-SNE"
      ]
    },
    {
      "cell_type": "markdown",
      "metadata": {
        "id": "Yos1iD6nNgx0"
      },
      "source": [
        "### PCA"
      ]
    },
    {
      "cell_type": "markdown",
      "metadata": {
        "id": "ZsnlFuOdoPAX"
      },
      "source": [
        "# Comprendiendo el proceso\n",
        "\n",
        "\n",
        "1.   Recopilación de datos\n",
        "\n",
        "2.   Preparación de nuestros datos\n",
        "\n",
        "3.   ¡Hora de elejir el modelo!\n",
        "\n",
        "4.   Entrenar al modelo\n",
        "\n",
        "5.   Evaluación: ¿Es suficientemente competente?\n",
        "\n",
        "6.   Ajuste: Hora de volver a atrás\n",
        "\n",
        "7.   Modelo listo para predecir\n",
        "\n",
        "\n",
        "\n",
        "\n",
        "\n",
        "\n",
        "\n",
        "\n",
        "\n",
        "\n",
        "\n"
      ]
    },
    {
      "cell_type": "markdown",
      "metadata": {
        "id": "JxJH3A6rDdPK"
      },
      "source": [
        "# Referencias\n",
        "---\n",
        "\n",
        "1. Auslander, N., Gussow, A. B., & Koonin, E. V. (2021). Incorporating machine learning into established bioinformatics frameworks. International journal of molecular sciences, 22(6), 2903.\n",
        "2. Mendez, K. M., Reinke, S. N., & Broadhurst, D. I. (2019). A comparative evaluation of the generalised predictive ability of eight machine learning algorithms across ten clinical metabolomics data sets for binary classification. Metabolomics, 15, 1-15.\n",
        "3. Rauschert, S., Raubenheimer, K., Melton, P. E., & Huang, R. C. (2020). Machine learning and clinical epigenetics: a review of challenges for diagnosis and classification. Clinical epigenetics, 12, 1-11.\n"
      ]
    }
  ],
  "metadata": {
    "colab": {
      "provenance": []
    },
    "kernelspec": {
      "display_name": "Python 3",
      "name": "python3"
    },
    "language_info": {
      "name": "python"
    }
  },
  "nbformat": 4,
  "nbformat_minor": 0
}
